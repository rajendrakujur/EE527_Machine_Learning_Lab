{
 "cells": [
  {
   "cell_type": "markdown",
   "metadata": {},
   "source": [
    " # EE-527: Machine Learning Laboratory "
   ]
  },
  {
   "cell_type": "markdown",
   "metadata": {},
   "source": [
    "## Assignment 1: Python Basics"
   ]
  },
  {
   "cell_type": "markdown",
   "metadata": {},
   "source": [
    "## Group Members: \n",
    "1. RAJENDRA KUJUR (214161008)\n",
    "2. ROHIT RAJ SINGH CHAUHAN (214161009)"
   ]
  },
  {
   "cell_type": "markdown",
   "metadata": {},
   "source": [
    "### 1.  Print 'Hello World!'."
   ]
  },
  {
   "cell_type": "code",
   "execution_count": null,
   "metadata": {},
   "outputs": [],
   "source": [
    "print('Hello World')"
   ]
  },
  {
   "cell_type": "markdown",
   "metadata": {},
   "source": [
    "### 2.  User input two numbers a and b. Perform the following algebraic operations c = a+b, d= a-b, e= a*b, f=a/b and g=a%b and print their results."
   ]
  },
  {
   "cell_type": "code",
   "execution_count": null,
   "metadata": {},
   "outputs": [],
   "source": [
    "a = int(input('Enter a :'))\n",
    "b = int(input('Enter b :'))\n",
    "print(f'{a} + {b} : {a+b}')\n",
    "print(f'{a} - {b} : {a-b}')\n",
    "print(f'{a} * {b} : {a*b}')\n",
    "print(f'{a} / {b} : {a/b}')\n",
    "print(f'{a} % {b} : {a%b}')"
   ]
  },
  {
   "cell_type": "markdown",
   "metadata": {},
   "source": [
    "### 3. Print the factorial of a positive number 'a' given as a user input."
   ]
  },
  {
   "cell_type": "code",
   "execution_count": null,
   "metadata": {},
   "outputs": [],
   "source": [
    "# Returns the factorial of given number\n",
    "def factorial(number):\n",
    "    \n",
    "    result = 1\n",
    "    if number == 0:\n",
    "        return result\n",
    "    else:\n",
    "        factor = 2\n",
    "        while factor <= number:\n",
    "            result *= factor\n",
    "            factor += 1\n",
    "    return result\n",
    "\n",
    "a = int(input('Enter a positive number :'))\n",
    "print(factorial(a))"
   ]
  },
  {
   "cell_type": "markdown",
   "metadata": {},
   "source": [
    "### 4. Write a function to print all prime numbers in an interval [a,b]. Interval is to be obtained as a user input."
   ]
  },
  {
   "cell_type": "code",
   "execution_count": null,
   "metadata": {},
   "outputs": [],
   "source": [
    "# checks whether a number is prime or not\n",
    "def isPrime(number):\n",
    "#   1 is neither prime nor composite\n",
    "    if number == 1:\n",
    "        return False\n",
    "#     2 and 3 both are prime numbers\n",
    "    elif number == 2 or number == 3:\n",
    "        return True\n",
    "#     if number is completely divisible by 2 or 3 then number is not prime\n",
    "    elif number % 2 == 0 or number % 3 == 0:\n",
    "        return False\n",
    "    else:\n",
    "        divisor = 5\n",
    "        while divisor**2 <= number:\n",
    "            if number % divisor == 0 or number % (divisor + 2) == 0:\n",
    "                return False\n",
    "            divisor += 5\n",
    "    return True\n",
    "\n",
    "\n",
    "# prints prime number in the given range\n",
    "def primeInRange(start, end):\n",
    "    for number in range(start,end+1):\n",
    "        if isPrime(number):\n",
    "            print(number)\n",
    "\n",
    "# Execution begins here\n",
    "a = int(input('Enter a : '))\n",
    "b = int(input('Enter b :'))\n",
    "primeInRange(a, b)"
   ]
  },
  {
   "cell_type": "markdown",
   "metadata": {},
   "source": [
    "### 5. User input two numbers a and b. Print their lowest common multiple (LCM)."
   ]
  },
  {
   "cell_type": "code",
   "execution_count": null,
   "metadata": {},
   "outputs": [],
   "source": [
    "# extended euclidean algorithm to find GCD of two numbers\n",
    "def gcd(num_1, num_2):\n",
    "    if num_2 == 0:\n",
    "        return num_1\n",
    "    else:\n",
    "        return gcd(num_2, num_1 % num_2)\n",
    "\n",
    "    \n",
    "#     returns the LCM of two given numbers\n",
    "def LCM(num_1, num_2):\n",
    "#     since product of two numbers is same as product of LCM and GCD of those numbers\n",
    "    return (num_1 * num_2)/gcd(num_1, num_2)\n",
    "    \n",
    "# Execution begins here\n",
    "a = int(input('Enter a : '))\n",
    "b = int(input('Enter b : '))\n",
    "print(f'LCM({a},{b}) : {LCM(a,b)}')"
   ]
  },
  {
   "cell_type": "markdown",
   "metadata": {},
   "source": [
    "### 6. Create a list of length n = 15. Sort in descending order and print the sorted list as well as the sorted indices. Use bubble sort algorithm."
   ]
  },
  {
   "cell_type": "code",
   "execution_count": null,
   "metadata": {},
   "outputs": [],
   "source": [
    "import random\n",
    "\n",
    "list_of_15 = [random.randint(1,100) for i in range(15)]\n",
    "\n",
    "print(f'Unsorted List : {list_of_15}')\n",
    "    \n",
    "number_of_elements = 15\n",
    "\n",
    "index = [i for i in range(15)]\n",
    "for i in range(number_of_elements-1):\n",
    "    for j in range(number_of_elements-i-1):\n",
    "#         Inversion of bubble sort (since the output needed in descending order)\n",
    "        if list_of_15[j] < list_of_15[j+1] and i != j:\n",
    "            list_of_15[j] , list_of_15[j+1] = list_of_15[j+1] , list_of_15[j]\n",
    "            index[j] , index[j+1] = index[j+1] , index[j]\n",
    "\n",
    "print(f'Sorted List (Desceding) : {list_of_15}')\n",
    "print(f'Sorted index of numbers : {index}')"
   ]
  },
  {
   "cell_type": "markdown",
   "metadata": {},
   "source": [
    "### 7. Repeat the previous program for sorting in ascending order. Use numpy array instead of list."
   ]
  },
  {
   "cell_type": "code",
   "execution_count": null,
   "metadata": {},
   "outputs": [],
   "source": [
    "import numpy as np\n",
    "\n",
    "numbers = np.array([random.randint(1,100) for i in range(15)])\n",
    "print(f'Unsorted Array : {numbers}')\n",
    "\n",
    "index = [i for i in range(15)]\n",
    "\n",
    "for i in range(number_of_elements-1):\n",
    "    for j in range(number_of_elements-i-1):\n",
    "        if numbers[j] > numbers[j+1] and i != j:\n",
    "#             Swapping the numbers if numbers at j index is greater than j+1 th index\n",
    "            numbers[j] , numbers[j+1] = numbers[j+1] , numbers[j]\n",
    "#             swapping the indices\n",
    "            index[j] , index[j+1] = index[j+1] , index[j]\n",
    "\n",
    "print(f'Sorted Array (Ascending) : {numbers}')\n",
    "print(f'Sorted index of numbers : {index}')"
   ]
  },
  {
   "cell_type": "markdown",
   "metadata": {},
   "source": [
    "### 8. Print a matrix M ∈ R m×n having random values in the given range [ -2, 5 ]. m and n are to be given as a user input."
   ]
  },
  {
   "cell_type": "code",
   "execution_count": null,
   "metadata": {
    "scrolled": true
   },
   "outputs": [],
   "source": [
    "import random\n",
    "\n",
    "# Execution begins here\n",
    "m = int(input('Enter m : '))\n",
    "n = int(input('Enter n : '))\n",
    "\n",
    "#  Stores the entrie matrix\n",
    "matrix = np.array([[random.randrange(-2,6) for x in range(n)] for y in range(m)])\n",
    "\n",
    "print(matrix)"
   ]
  },
  {
   "cell_type": "markdown",
   "metadata": {},
   "source": [
    "### 9. Program to multiply two random matrices M1 ∈ R m×n , M2 ∈ R n×p (Don't use built-in functions). Compare the result obtained with the built-in function."
   ]
  },
  {
   "cell_type": "code",
   "execution_count": null,
   "metadata": {},
   "outputs": [],
   "source": [
    "import random\n",
    "import numpy as np\n",
    "\n",
    "# Function to multiply two matrices\n",
    "def multiply(mat_1, mat_2, row_1, column_1, row_2, column_2):\n",
    "    result = np.array([[0 for x in range(column_2)] for y in range(row_1)]) \n",
    "    for i in range(row_1):\n",
    "        for j in range(column_2):  \n",
    "            for k in range(row_2):\n",
    "                result[i][j] += mat_1[i][k] * mat_2[k][j]   \n",
    "    return result\n",
    "\n",
    "    \n",
    "# Function to check the equality between two matrices\n",
    "def checkEquality(matrix_1, matrix_2):\n",
    "#     Checks for the dimensions first\n",
    "    if len(matrix_1) == len(matrix_2):\n",
    "        for i in range(len(matrix_1)):\n",
    "            for j in range(len(matrix_1[i])):\n",
    "                if matrix_1[i][j] != matrix_2[i][j]:\n",
    "                    return False\n",
    "        else:\n",
    "            return True\n",
    "    else:\n",
    "        return False\n",
    "\n",
    "\n",
    "# execution begins here\n",
    "# first matrix of 2 x 3\n",
    "row_1 = 2\n",
    "column_1 = 3\n",
    "mat_1 = np.array([[random.randrange(-2,6) for x in range(column_1)] for y in range(row_1)])\n",
    "print(f'Matrix 1 : \\n{mat_1}')\n",
    "    \n",
    "#second matrix of 3 x 4\n",
    "row_2 = 3\n",
    "column_2 = 4\n",
    "mat_2 = np.array([[random.randrange(-2,6) for x in range(column_2)] for y in range(row_2)])\n",
    "print(f'Matrix 2 : \\n{mat_2}')\n",
    "\n",
    "# using User-defined function\n",
    "func_product = multiply(mat_1, mat_2, row_1, column_1, row_2, column_2)\n",
    "print(f'From User Defined Function : \\n{func_product}')\n",
    "\n",
    "# Using in-built function\n",
    "np_product = np.dot(mat_1, mat_2)\n",
    "print(f'From Built in Function : \\n{np_product}')\n",
    "\n",
    "# Check for the equality of results\n",
    "if checkEquality(func_product, np_product):\n",
    "    print('Both are same.')\n",
    "else:\n",
    "    print('Both are different')"
   ]
  },
  {
   "cell_type": "markdown",
   "metadata": {},
   "source": [
    "### 10. File operations :write\n",
    "\n",
    "1. Generate a set of n=100 random points X = {xi}, i = 1, … n, xi ∈ R10"
   ]
  },
  {
   "cell_type": "code",
   "execution_count": null,
   "metadata": {},
   "outputs": [],
   "source": [
    "import numpy as np\n",
    "import random\n",
    "\n",
    "n = 100\n",
    "x_i =[[random.randint(0,100) for i in range(10)] for j in range(100)]\n",
    "print(x_i)"
   ]
  },
  {
   "cell_type": "markdown",
   "metadata": {},
   "source": [
    "2. Write the points to a csv (https://en.wikipedia.org/wiki/Comma-separated_values) file"
   ]
  },
  {
   "cell_type": "code",
   "execution_count": null,
   "metadata": {
    "scrolled": true
   },
   "outputs": [],
   "source": [
    "import csv\n",
    "import pandas as pd\n",
    "\n",
    "df = pd.DataFrame(x_i)\n",
    "df.to_csv(\"points.csv\", index=False)"
   ]
  },
  {
   "cell_type": "markdown",
   "metadata": {},
   "source": [
    "### 11. File operations:read\n",
    "1. Read the csv (https://en.wikipedia.org/wiki/Comma-separated_values) ﬁle generated in the previous program to a matrix. Each column of the matrix should represent a vector"
   ]
  },
  {
   "cell_type": "code",
   "execution_count": null,
   "metadata": {},
   "outputs": [],
   "source": [
    "import csv\n",
    "import pandas as pd\n",
    "import numpy as np\n",
    "\n",
    "\n",
    "df_1=pd.read_csv(\"points.csv\")\n",
    "df_1=df_1.T\n",
    "print(df_1)"
   ]
  },
  {
   "cell_type": "markdown",
   "metadata": {},
   "source": [
    "2.Compute the following: C =\n",
    "1\n",
    "n\n",
    "T\n",
    "∑ n i=1 (x i − μ)(x i − μ) , where μ =\n",
    "1\n",
    "n\n",
    "∑ n i=1 x i , i = 1, … n , x i = [x i1 , … x i10 ] T is a column\n",
    "vector"
   ]
  },
  {
   "cell_type": "code",
   "execution_count": null,
   "metadata": {},
   "outputs": [],
   "source": [
    "import numpy as np\n",
    "\n",
    "sigma_xi = 0\n",
    "for i in range(len(matrix)):\n",
    "    sigma_xi += sum(matrix[i])\n",
    "\n",
    "mu = sigma_xi/len(matrix)\n",
    "row_vector = np.array([])\n",
    "\n",
    "for i in range(len(matrix)):\n",
    "    row_vector = np.append(row_vector, sum(matrix[i]) - mu)\n",
    "\n",
    "c = (np.dot(row_vector, row_vector.transpose()))/len(matrix)\n",
    "print(c)"
   ]
  },
  {
   "cell_type": "markdown",
   "metadata": {},
   "source": [
    "### 12. Deﬁne a class for a complex number a + jb . Deﬁne memeber functions to do basic operations conjugate, absolute value, addition, subtraction, multiplication, division and angle. Deﬁne two complex numbers c1 , c2 and print the results of the following operations c1 + c2 , c1 − c2 , c1 ∗ c2 , c1/c2 , |c1| , |c2| , ∠c1 , ∠c2 ."
   ]
  },
  {
   "cell_type": "code",
   "execution_count": null,
   "metadata": {},
   "outputs": [],
   "source": [
    "import math \n",
    "\n",
    "# Class named complex number\n",
    "class ComplexNumber:\n",
    "    \n",
    "# Initializes the class\n",
    "  def __init__(self, real, imaginary):\n",
    "    self.real = real\n",
    "    self.imaginary = imaginary\n",
    "\n",
    "#     Returns the conjugate of given complex number\n",
    "  def conjugate(self):\n",
    "    result = ComplexNumber(0,0)\n",
    "    result.real = self.real\n",
    "    result.imaginary = (-1)*self.imaginary\n",
    "    return result\n",
    "\n",
    "#     Returns the absolute value of given complex number\n",
    "  def absolute(self):\n",
    "    return (self.real**2 + self.imaginary**2)**0.5\n",
    "  \n",
    "#     Returns the sum of two given complex numbers\n",
    "  def addition(self, number):\n",
    "    result = ComplexNumber(0,0)\n",
    "    result.real = self.real + number.real\n",
    "    result.imaginary = self.imaginary + number.imaginary\n",
    "    return result\n",
    "    \n",
    "#     Returns the difference between two complex numbers\n",
    "  def subtraction(self, number):\n",
    "    result = ComplexNumber(0,0)\n",
    "    result.real = self.real - number.real\n",
    "    result.imaginary = self.imaginary - number.imaginary\n",
    "    return result\n",
    "  \n",
    "#     Returns the product of given two complex numbers\n",
    "  def multiplication(self, number):\n",
    "    result = ComplexNumber(0,0)\n",
    "    result.real = self.real*number.real - self.imaginary*number.imaginary\n",
    "    result.imaginary = self.imaginary*number.real + self.real*number.imaginary\n",
    "    return result\n",
    "  \n",
    "#     Returns the division of two given complex numbers\n",
    "  def division(self, number):\n",
    "    result = ComplexNumber(0, 0)\n",
    "    denominator = number.real**2 + number.imaginary**2\n",
    "    result.real = (self.real*number.real + self.imaginary*number.imaginary)/denominator\n",
    "    result.imaginary = (self.imaginary*number.real - self.real*number.imaginary)/denominator\n",
    "    return result\n",
    "    \n",
    "#     Displays the complex number\n",
    "  def display(self):\n",
    "    if self.imaginary < 0:\n",
    "        print(f'{self.real}{self.imaginary}j')\n",
    "    else:\n",
    "        print(f'{self.real}+{self.imaginary}j')\n",
    "        \n",
    "\n",
    "# Execution begins here\n",
    "c1 = ComplexNumber(5,-6)\n",
    "print('First Number : ',end='')\n",
    "c1.display()\n",
    "c2 = ComplexNumber(3,8)\n",
    "print('Second Number : ',end='')\n",
    "c2.display()\n",
    "\n",
    "# Conjugate \n",
    "c3 = ComplexNumber(0,0)\n",
    "c3 = c1.conjugate()\n",
    "print('Conjugate of first number, : ',end='')\n",
    "c3.display()\n",
    "c3 = ComplexNumber(0,0)\n",
    "c3 = c2.conjugate()\n",
    "print('Conjugate of second Number : ',end='')\n",
    "c3.display()\n",
    "\n",
    "\n",
    "# Absolute\n",
    "print(f'Absolute of first number : {c1.absolute()}')\n",
    "print(f'Absolute of second number : {c2.absolute()}')\n",
    "\n",
    "# Addition\n",
    "c3 = ComplexNumber(0,0)\n",
    "c3 = c1.addition(c2)\n",
    "print('Addition of the two numbers : ',end='')\n",
    "c3.display()\n",
    "\n",
    "\n",
    "# Subtraction\n",
    "c3 = ComplexNumber(0,0)\n",
    "c3 = c1.subtraction(c2)\n",
    "print('Difference between the two numbers : ',end='')\n",
    "c3.display()\n",
    "\n",
    "\n",
    "# Multiplication\n",
    "c3 = ComplexNumber(0,0)\n",
    "c3 = c1.multiplication(c2)\n",
    "print('Product of the two numbers : ',end='')\n",
    "c3.display()\n",
    "\n",
    "\n",
    "# Division\n",
    "c3 = ComplexNumber(0,0)\n",
    "c3 = c1.division(c2)\n",
    "print('Division of the two numbers : ',end='')\n",
    "c3.display()\n",
    "\n",
    "\n",
    "# Angles\n",
    "print(f'Angle of First number in degrees: {math.degrees(math.atan(c1.imaginary/c1.real))}')\n",
    "print(f'Angle of Second number in degrees : {math.degrees(math.atan(c2.imaginary/c2.real))}')"
   ]
  },
  {
   "cell_type": "markdown",
   "metadata": {},
   "source": [
    "### 13. Plot the function y = 3x + 2 with x ∈ [−10, 10] ."
   ]
  },
  {
   "cell_type": "code",
   "execution_count": null,
   "metadata": {},
   "outputs": [],
   "source": [
    "import numpy as np\n",
    "import matplotlib.pyplot as plt\n",
    "\n",
    "# calculates the function value and returns\n",
    "def f(x):\n",
    "    return (3*x + 2)\n",
    "\n",
    "# Divides the points into 10000\n",
    "x = np.linspace(-10, 10, 10000)\n",
    "plt.plot(x, f(x), color = 'green')\n",
    "\n",
    "plt.xlabel('x')\n",
    "plt.ylabel('f(x)')\n",
    "plt.title('f(x) = 3x + 2')\n",
    "plt.show()"
   ]
  },
  {
   "cell_type": "markdown",
   "metadata": {},
   "source": [
    "### 14. Scatter plot\n",
    "1. Generate a set of n = 100 points, X = {x i }, i = 1, … n, x i ∈ R 2 within an ellipse + a 2 b 2[μ x , μ y ] = [5, −5] and has a major axis 2a = 10 and minor axis 2b = 5"
   ]
  },
  {
   "cell_type": "code",
   "execution_count": null,
   "metadata": {},
   "outputs": [],
   "source": [
    "import random\n",
    "import matplotlib.pyplot as plt\n",
    "\n",
    "\n",
    "# Ellipse Class\n",
    "class ellipse:\n",
    "  \n",
    "# Initializes the ellipse class\n",
    "  def __init__(self, origin_x, origin_y, major_axis, minor_axis):\n",
    "      self.origin_x = origin_x\n",
    "      self.origin_y = origin_y\n",
    "      self.major_axis = major_axis\n",
    "      self.minor_axis = minor_axis\n",
    "\n",
    "# Checks whether the point lies inside the ellipse or not\n",
    "  def isInsideEllipse(self, x_value, y_value):\n",
    "      if ((x_value - self.origin_x)**2)/((self.major_axis/2)**2) + ((y_value - self.origin_y)**2)/((self.minor_axis/2)**2) < 1:\n",
    "          return True\n",
    "      else:\n",
    "          return False        \n",
    "  \n",
    "\n",
    "# Execution begins here\n",
    "# define an ellipse with given constraints        \n",
    "e = ellipse(origin_x=5, origin_y=-5, major_axis=10, minor_axis=5)\n",
    "    \n",
    "points= []\n",
    "\n",
    "# Loop continues till we get 100 valid points inside the ellipse\n",
    "while len(points) < 100:\n",
    "    lower_limit_x = e.origin_x - (e.major_axis/2)\n",
    "    upper_limit_x = e.origin_x + (e.major_axis/2)\n",
    "    lower_limit_y = e.origin_y - (e.minor_axis/2)\n",
    "    upper_limit_y = e.origin_y + (e.minor_axis/2)\n",
    "    new_point_x = random.uniform(lower_limit_x, upper_limit_x)\n",
    "    new_point_y = random.uniform(lower_limit_y, upper_limit_y)\n",
    "    \n",
    "#     if generated point lies inside ellipse then append point\n",
    "    if e.isInsideEllipse(new_point_x, new_point_y) is True:\n",
    "        points.append([new_point_x, new_point_y])\n",
    "\n",
    "print(points)"
   ]
  },
  {
   "cell_type": "markdown",
   "metadata": {},
   "source": [
    "2. Scatter plot all the points."
   ]
  },
  {
   "cell_type": "code",
   "execution_count": null,
   "metadata": {},
   "outputs": [],
   "source": [
    "import matplotlib.pyplot as plt\n",
    "\n",
    "x = [points[i][0] for i in range(len(points))]\n",
    "y = [points[i][1] for i in range(len(points))]\n",
    "plt.scatter(x,y)\n",
    "plt.xlabel('x')\n",
    "plt.ylabel('y')\n",
    "plt.title('Ellipse')\n",
    "plt.show()"
   ]
  }
 ],
 "metadata": {
  "interpreter": {
   "hash": "8a94588eda9d64d9e9a351ab8144e55b1fabf5113b54e67dd26a8c27df0381b3"
  },
  "kernelspec": {
   "display_name": "Python 3 (ipykernel)",
   "language": "python",
   "name": "python3"
  },
  "language_info": {
   "codemirror_mode": {
    "name": "ipython",
    "version": 3
   },
   "file_extension": ".py",
   "mimetype": "text/x-python",
   "name": "python",
   "nbconvert_exporter": "python",
   "pygments_lexer": "ipython3",
   "version": "3.8.10"
  }
 },
 "nbformat": 4,
 "nbformat_minor": 2
}
