{
 "cells": [
  {
   "cell_type": "markdown",
   "id": "4aa31b55",
   "metadata": {},
   "source": [
    "# Assignment 03"
   ]
  },
  {
   "cell_type": "markdown",
   "id": "9903f266",
   "metadata": {},
   "source": [
    "# EE-527 Machine Learning Laboratory"
   ]
  },
  {
   "cell_type": "markdown",
   "id": "6eaae1d2",
   "metadata": {},
   "source": [
    "## Group Members\n",
    "    RAJENDRA KUJUR (214161008)\n",
    "    ROHIT RAJ SINGH CHAUHARN (214161009)"
   ]
  },
  {
   "cell_type": "markdown",
   "id": "f4037438",
   "metadata": {},
   "source": [
    "### Problem 1\n",
    "Write the following function in python to generate n number of points around the line\n",
    "y = ax + b\n",
    "[y outlier , y noisy , y actual ] = generateDataSet(a, b, xmin, xmax, n, α, σ)\n",
    "where x ∈ [x min , x max ] , σ is the standard deviation of additive white noise and α is the\n",
    "fraction of outliers present in the data (α ∈ (0, 1)). The output of the function is obtained\n",
    "as follows\n",
    "y actual (i) = ax(i) + b\n",
    "(1)\n",
    "y noisy (i) = y actual (i) + σN (0, 1)\n",
    "y outlier = outlierCorruption(y noisy , α)\n",
    "Display the scatter plot of the dataset. Plot the inliers in BLUE and outliers in RED."
   ]
  },
  {
   "cell_type": "code",
   "execution_count": null,
   "id": "980a448f",
   "metadata": {
    "scrolled": false
   },
   "outputs": [],
   "source": [
    "import numpy as np\n",
    "import matplotlib.pyplot as plt\n",
    "import random\n",
    "\n",
    "def line(a, b, x):\n",
    "    return a*x + b\n",
    "\n",
    "def generateDataSet(a, b, x_min, x_max, n, alpha, sigma):\n",
    "    x = (np.array([(np.random.random()-0.5)*10 for i in range(n)])).reshape(n,1)\n",
    "    \n",
    "    # Since alpha is fraction of outliers present\n",
    "    number_of_outliers = int(alpha*n)\n",
    "    # assumed 50% points more than outliers are noise\n",
    "    number_of_noise = int((alpha + 0.5)*n)\n",
    "    # remaining points\n",
    "    number_of_inliners = n - number_of_outliers - number_of_noise\n",
    "    \n",
    "    # generate y_actual valeus\n",
    "    y_actual = line(a, b, x[:number_of_inliners])\n",
    "    \n",
    "    # generate y_noise values\n",
    "    y_noise = line(a, b, x[number_of_inliners:number_of_inliners + number_of_noise]) + sigma * np.random.normal(0, 1, (number_of_noise,1))\n",
    "    \n",
    "    sequence = [-20, 20]\n",
    "    # generate y_outliers\n",
    "    y_outlier = line(a, b, x[number_of_inliners + number_of_noise:]) + sigma*np.random.normal(0, 1, (number_of_outliers,1)) + (np.random.choice(sequence, number_of_outliers)).reshape(number_of_outliers, 1)\n",
    "    \n",
    "    # Plot all the points\n",
    "    plt.plot(x[:number_of_inliners,:],y_actual,'bo',x[number_of_inliners:number_of_inliners+number_of_noise,:],y_noise,'bo',x[number_of_inliners+number_of_noise:,:],y_outlier,'ro')\n",
    "    plt.title(f'Points at alpha = {alpha}')\n",
    "    plt.xlabel('x')\n",
    "    plt.ylabel('y')\n",
    "    plt.show()\n",
    "    \n",
    "    return x, y_outlier, y_noise, y_actual\n",
    "\n",
    "x, y_outlier, y_noise, y_actual = generateDataSet(2, 3, -5, 5, 100, 0.2, 1)"
   ]
  },
  {
   "cell_type": "markdown",
   "id": "b4018822",
   "metadata": {},
   "source": [
    "### Problem 2\n",
    "Perform Regression Diagnostics and display the line obtained in each iteration. Please note\n",
    "that the outliers detected in each iteration should be marked in red color. Experiment with\n",
    "different values of α."
   ]
  },
  {
   "cell_type": "code",
   "execution_count": null,
   "id": "e6d8d9a6",
   "metadata": {},
   "outputs": [],
   "source": [
    "def secondProblem(x, y_outlier, y_noise, y_actual):\n",
    "    y = np.concatenate((y_actual,y_noise,y_outlier))\n",
    "\n",
    "    import copy\n",
    "    real_x = copy.deepcopy(x)\n",
    "    real_y = copy.deepcopy(y)\n",
    "\n",
    "    from numpy.lib.type_check import real\n",
    "    from sklearn.linear_model import LinearRegression\n",
    "    l_list=[2.5]\n",
    "\n",
    "    for l in l_list:\n",
    "        x=copy.deepcopy(real_x)\n",
    "        y=copy.deepcopy(real_y)\n",
    "        print(\"value of lembda : \",l)\n",
    "\n",
    "        for epoch in range(10):\n",
    "            reg = LinearRegression().fit(x, y)\n",
    "            # reg.score(x, y)\n",
    "\n",
    "            y_pred=reg.predict(x)\n",
    "            error=y-y_pred\n",
    "            mean=np.mean(error)\n",
    "            var=np.var(error)\n",
    "            std=var**(1/2)\n",
    "            new_X=[]\n",
    "            new_y=[]\n",
    "            out_X=[]\n",
    "            out_y=[]\n",
    "            for i in range(len(error)):\n",
    "                if(abs(error[i])>=mean+l*std):\n",
    "                    out_X.append(x[i])\n",
    "                    out_y.append(y[i])\n",
    "                else:\n",
    "                    new_X.append(x[i])\n",
    "                    new_y.append(y[i])\n",
    "\n",
    "            print(\"Iteration number :\",epoch+1,\"   number of outlier:\",len(out_X),\"  and  number of non outliers\" , len(new_X))\n",
    "            plt.plot(new_X,new_y,'bo',out_X,out_y,'ro')\n",
    "            x_line = np.linspace(-5,5,100)\n",
    "            y_line= reg.coef_[0]*x_line+reg.intercept_\n",
    "            plt.plot(x_line, y_line, 'black')\n",
    "            plt.xlabel('x')\n",
    "            plt.ylabel('y')\n",
    "            x=new_X\n",
    "            y=new_y\n",
    "            plt.show()\n",
    "\n",
    "\n",
    "alpha_values = [0.12, 0.18, 0.2]"
   ]
  },
  {
   "cell_type": "markdown",
   "id": "c2474510",
   "metadata": {},
   "source": [
    "#### For alpha = 0.12"
   ]
  },
  {
   "cell_type": "code",
   "execution_count": null,
   "id": "92cf203c",
   "metadata": {},
   "outputs": [],
   "source": [
    "x, y_outlier, y_noise, y_actual = generateDataSet(2, 3, -5, 5, 100, alpha_values[0], 1)\n",
    "secondProblem(x, y_outlier, y_noise, y_actual)"
   ]
  },
  {
   "cell_type": "markdown",
   "id": "cd7464fc",
   "metadata": {},
   "source": [
    "#####  For alpha = 0.18"
   ]
  },
  {
   "cell_type": "code",
   "execution_count": null,
   "id": "119ec520",
   "metadata": {},
   "outputs": [],
   "source": [
    "x, y_outlier, y_noise, y_actual = generateDataSet(2, 3, -5, 5, 100, alpha_values[1], 1)\n",
    "secondProblem(x, y_outlier, y_noise, y_actual)"
   ]
  },
  {
   "cell_type": "markdown",
   "id": "ca571ddd",
   "metadata": {},
   "source": [
    "##### For alpha 0.2"
   ]
  },
  {
   "cell_type": "code",
   "execution_count": null,
   "id": "f36ce408",
   "metadata": {},
   "outputs": [],
   "source": [
    "x, y_outlier, y_noise, y_actual = generateDataSet(2, 3, -5, 5, 100, alpha_values[2], 1)\n",
    "secondProblem(x, y_outlier, y_noise, y_actual)"
   ]
  },
  {
   "cell_type": "markdown",
   "id": "e50d08db",
   "metadata": {},
   "source": [
    "### Problem 3\n",
    "Perform RANSAC on the above set of points and plot the output of each trial. Identify and\n",
    "plot the final line."
   ]
  },
  {
   "cell_type": "code",
   "execution_count": null,
   "id": "5bdc5422",
   "metadata": {},
   "outputs": [],
   "source": [
    "# First concatenate all of the co-ordinates\n",
    "y = np.concatenate((y_actual,y_noise,y_outlier))\n",
    "\n",
    "# faltten x and y \n",
    "x = (x).flatten()\n",
    "y = (y).flatten()\n",
    "\n",
    "# returns the y value from the given line Ax + By + C = 0\n",
    "def line(A, B, C, x):\n",
    "    return (-C/B) - (A/B)*x\n",
    "\n",
    "# Randomly generates two points indices\n",
    "def randomIndexGenerator():\n",
    "    first_point_index = random.randint(0, 99)\n",
    "    second_point_index = random.randint(0, 99)\n",
    "    \n",
    "    while first_point_index == second_point_index:\n",
    "        second_point_index = random.randint(0, 99)\n",
    "    return x[first_point_index], y[first_point_index], x[second_point_index], y[second_point_index]\n",
    "\n",
    "\n",
    "iterations = 100\n",
    "tolerance = 1\n",
    "count_inliers = []\n",
    "point_x = []\n",
    "point_y = []\n",
    "\n",
    "\n",
    "for _ in range(iterations):\n",
    "    x1, y1, x2, y2 = randomIndexGenerator()\n",
    "    \n",
    "    # line equation is (y1-y2)*x + (x2-x1)*y + (x1*y2 -x2*y1) = 0 in the form of Ax + By + C = 0\n",
    "    A = y1 - y2\n",
    "    B = x2 - x1\n",
    "    C = x1*y2 - x2*y1\n",
    "    \n",
    "    # Now lets find each points distance from the line forming by choosing these two points\n",
    "    # from formula |Ax + By + C| ((A**2 + B**2)**0.5)\n",
    "    inliers = 0\n",
    "    for index in range(len(x)):\n",
    "        distance = abs(A*x[index] + B*y[index] + C)/ ((A**2 + B**2) ** 0.5)\n",
    "        if distance < tolerance:\n",
    "            inliers += 1\n",
    "    \n",
    "    print(f'Iteration number : {_+1}',end=' ')\n",
    "    print(f'Number of inliers : {inliers}')\n",
    "    \n",
    "    # store each iteration's inliers count and x and y co ordinates for last \n",
    "    count_inliers.append(inliers)\n",
    "    point_x.append([x1, x2])\n",
    "    point_y.append([y1, y2])\n",
    "    \n",
    "    # To store the current points co ordinates an make a line joining them \n",
    "    line_x_coordinate = [x1, x2]\n",
    "    line_y_coordinate = [y1, y2]\n",
    "    \n",
    "    # Plot the graph at each iteration\n",
    "    # for all the points make scatter graph\n",
    "    plt.scatter(x,y)\n",
    "    # for the generated points make a line joining both the points\n",
    "    plt.plot(line_x_coordinate, line_y_coordinate, 'red', linewidth = 2.0)\n",
    "    plt.xlabel('x')\n",
    "    plt.ylabel('y')\n",
    "    plt.title('')\n",
    "    plt.show()\n",
    "    \n",
    "    print('************************************************************************************************')\n",
    "    \n",
    "max_in = max(count_inliers)\n",
    "print(f'Highest number of inliers : {max_in}')\n",
    "\n",
    "# Find the index which is having highest number of inliners so that corresponding line can be drawn\n",
    "index = count_inliers.index(max_in)\n",
    "\n",
    "# fetch x and y coordinates of both points\n",
    "x1, x2 = point_x[index][0], point_x[index][1] \n",
    "y1, y2 = point_y[index][0], point_y[index][1]\n",
    "\n",
    "# Now form the equation of line\n",
    "# line equation is (y1-y2)*x + (x2-x1)*y + (x1*y2 -x2*y1) = 0 in the form of Ax + By + C = 0\n",
    "A = y1 - y2\n",
    "B = x2 - x1\n",
    "C = x1*y2 - x2*y1\n",
    "\n",
    "# make equally spaced x points\n",
    "line_x = np.linspace(-5, 5, 100)\n",
    "# for every x calculate y values\n",
    "line_y = [line(A, B, C, x) for x in line_x]\n",
    "\n",
    "# plot the line from x_min ot x_max with the calcuated line equation\n",
    "plt.plot(line_x, line_y, 'red')\n",
    "plt.scatter(x, y)\n",
    "plt.title(f'Plot with Highest number of inliers in {iterations} iterations')\n",
    "plt.xlabel('x')\n",
    "plt.ylabel(f'y')\n",
    "plt.show()"
   ]
  }
 ],
 "metadata": {
  "kernelspec": {
   "display_name": "Python 3.9.7 64-bit ('base': conda)",
   "language": "python",
   "name": "python397jvsc74a57bd0c518e2a3164ff98cfef2600f02474450bcd42b9450511ab7e3c05a04e9dee73f"
  },
  "language_info": {
   "codemirror_mode": {
    "name": "ipython",
    "version": 3
   },
   "file_extension": ".py",
   "mimetype": "text/x-python",
   "name": "python",
   "nbconvert_exporter": "python",
   "pygments_lexer": "ipython3",
   "version": "3.9.7"
  }
 },
 "nbformat": 4,
 "nbformat_minor": 5
}
