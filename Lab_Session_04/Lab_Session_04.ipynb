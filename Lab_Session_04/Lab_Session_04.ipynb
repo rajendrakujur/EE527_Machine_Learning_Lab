{
 "cells": [
  {
   "cell_type": "markdown",
   "id": "9ec15ba0",
   "metadata": {},
   "source": [
    "# Assingment 04"
   ]
  },
  {
   "cell_type": "markdown",
   "id": "0bfd3d7e",
   "metadata": {},
   "source": [
    "# EE-527 Machine Learning Laboratory"
   ]
  },
  {
   "cell_type": "markdown",
   "id": "8f42d6fe",
   "metadata": {},
   "source": [
    "## Group Members\n",
    "    RAJENDRA KUJUR (214161008)\n",
    "    ROHIT RAJ SINGH CHAUHAN (214161009)"
   ]
  },
  {
   "cell_type": "code",
   "execution_count": 5,
   "id": "3d7afa00",
   "metadata": {},
   "outputs": [],
   "source": [
    "# Importing all necessary libraries\n",
    "import nump\n",
    "import matplotlib.pyplot as plt\n",
    "import random\n",
    "import math"
   ]
  },
  {
   "cell_type": "markdown",
   "id": "4bac522f",
   "metadata": {},
   "source": [
    "### Problem 1: Generation of Points within an Ellipse"
   ]
  },
  {
   "cell_type": "code",
   "execution_count": 6,
   "id": "1431a670",
   "metadata": {},
   "outputs": [],
   "source": [
    "import random\n",
    "import matplotlib.pyplot as plt\n",
    "import numpy as np\n",
    "\n",
    "# Ellipse Class\n",
    "class ellipse:\n",
    "# Initializes the ellipse class\n",
    "  def __init__(self, origin_x, origin_y, major_axis, minor_axis):\n",
    "      self.origin_x = origin_x\n",
    "      self.origin_y = origin_y\n",
    "      self.major_axis = major_axis\n",
    "      self.minor_axis = minor_axis\n",
    "\n",
    "# Checks whether the point lies inside the ellipse or not\n",
    "  def isInsideEllipse(self, x_value, y_value):\n",
    "      if ((x_value - self.origin_x)**2)/((self.major_axis/2)**2) + ((y_value - self.origin_y)**2)/((self.minor_axis/2)**2) < 1:\n",
    "          return True\n",
    "      else:\n",
    "          return False        \n",
    "  \n",
    "\n",
    "# Execution begins here\n",
    "# define an ellipse with given constraints        \n",
    "e = ellipse(origin_x= -10, origin_y = 20, major_axis = 150, minor_axis = 100)\n",
    "\n",
    "points= []\n",
    "# Loop continues till we get 1000 valid points inside the ellipse\n",
    "while len(points) < 1000:\n",
    "    lower_limit_x = e.origin_x - (e.major_axis/2)\n",
    "    upper_limit_x = e.origin_x + (e.major_axis/2)\n",
    "    lower_limit_y = e.origin_y - (e.minor_axis/2)\n",
    "    upper_limit_y = e.origin_y + (e.minor_axis/2)\n",
    "    \n",
    "    new_point_x = random.uniform(lower_limit_x, upper_limit_x)\n",
    "    new_point_y = random.uniform(lower_limit_y, upper_limit_y)\n",
    "    \n",
    "    # if generated point lies inside ellipse then append point\n",
    "    if e.isInsideEllipse(new_point_x, new_point_y) is True:\n",
    "        points.append([new_point_x, new_point_y])\n",
    "\n",
    "x = [points[i][0] for i in range(len(points))]\n",
    "y = [points[i][1] for i in range(len(points))]\n",
    "\n",
    "plt.scatter(x,y, color ='red')\n",
    "plt.xlabel('x')\n",
    "plt.ylabel('y')\n",
    "plt.title('Ellipse')\n",
    "plt.show()"
   ]
  },
  {
   "cell_type": "markdown",
   "id": "ab111376",
   "metadata": {},
   "source": [
    "### Problem 2: Generation of Points within 10 dimensional hypersphere"
   ]
  },
  {
   "cell_type": "markdown",
   "id": "6b34a54d",
   "metadata": {},
   "source": [
    "#### Execution takes more than 30 seconds since it is in 10 dimensions (have patience)"
   ]
  },
  {
   "cell_type": "code",
   "execution_count": null,
   "id": "45e8cd1c",
   "metadata": {},
   "outputs": [],
   "source": [
    "# Returns true if the generated point lies inside the hypersphere\n",
    "def isInsideHyperSphere(radius, center, new_point):\n",
    "    \n",
    "    # calculate the respective dimenstion difference and square and store into an array\n",
    "    # let's say we are storing into differ (for 3 dimension) = [(x1-x2)^2, (y1-y2)^2,  (z1-z2)^2]\n",
    "    # hence for 10 dimesnsion it can be written in shorthand \n",
    "    differ = (center - new_point)**2\n",
    "    \n",
    "    # if the following equation is less than zero means point is inside hypersphere if equal in the hypersphere\n",
    "    # if greater outside the hypersphere\n",
    "    if sum(differ) - (radius**2) < 0:\n",
    "        return True\n",
    "    else:\n",
    "        return False\n",
    "\n",
    "# Generates the points inside hypersphere\n",
    "def generateInsideHypersphere(radius, center, total_points):\n",
    "    \n",
    "    # To store the generated valid points\n",
    "    S = []\n",
    "    valid_points = 0\n",
    "    \n",
    "    # Iterate until we get required number of points\n",
    "    while valid_points < total_points:\n",
    "        new_point = np.array([center[i] + np.random.uniform(-1*radius, radius) for i in range(center.size)])\n",
    "        \n",
    "        if isInsideHyperSphere(radius, center, new_point) is True:\n",
    "            S.append(new_point)\n",
    "            valid_points += 1\n",
    "    \n",
    "    # points in 3 dimension look like [x1,y1,z1], [x2,y2,z2]\n",
    "    # can be generalized in 10 dimension\n",
    "    S = np.array(S)\n",
    "    return S\n",
    "\n",
    "\n",
    "# Execution begins here\n",
    "# Given fixed values\n",
    "radius = 100\n",
    "# the number of elements in the center is deciding factor to know how many dimensions\n",
    "center = np.array([-1, -2, -1, 0, 0, 0, 3, 4, 9, 0])\n",
    "total_points = 1000\n",
    "\n",
    "# Points will be finally store into points variable\n",
    "points = generateInsideHypersphere(radius, center, total_points)\n",
    "\n",
    "# Points can be fetched as follows, along each dimension\n",
    "# x = np.array([points[i][0] for i in range(len(points))])\n",
    "# y = np.array([points[i][1] for i in range(len(points))])"
   ]
  },
  {
   "cell_type": "markdown",
   "id": "974311cb",
   "metadata": {},
   "source": [
    "### Problem 3: Generation of points within oriented ellips"
   ]
  },
  {
   "cell_type": "markdown",
   "id": "e5260cef",
   "metadata": {},
   "source": [
    "Randomly generate\n",
    "2D ellipse of axes\n",
    "major axis makes an angle of\n",
    "2D points\n",
    ",\n",
    "inside an oriented\n",
    "𝒆𝒐\n",
    "and centered at\n",
    "𝒄\n",
    "with the horizontal axis"
   ]
  },
  {
   "cell_type": "code",
   "execution_count": 7,
   "id": "325655b2",
   "metadata": {
    "scrolled": false
   },
   "outputs": [],
   "source": [
    "# Ellipse Class\n",
    "class ellipse:\n",
    "# Initializes the ellipse class\n",
    "  def __init__(self, origin_x, origin_y, major_axis, minor_axis):\n",
    "      self.origin_x = origin_x\n",
    "      self.origin_y = origin_y\n",
    "      self.major_axis = major_axis\n",
    "      self.minor_axis = minor_axis\n",
    "\n",
    "# Checks whether the point lies inside the ellipse or not\n",
    "  def isInsideEllipse(self, x_value, y_value):\n",
    "      if ((x_value - self.origin_x)**2)/((self.major_axis/2)**2) + ((y_value - self.origin_y)**2)/((self.minor_axis/2)**2) < 1:\n",
    "          return True\n",
    "      else:\n",
    "          return False        \n",
    "  \n",
    "\n",
    "# Execution begins here\n",
    "# define an ellipse with given constraints  \n",
    "origin_x, origin_y = -10, 20\n",
    "major_axis, minor_axis = 150, 100\n",
    "e = ellipse(origin_x, origin_y, major_axis, minor_axis)\n",
    "\n",
    "points= []\n",
    "\n",
    "lower_limit_x = e.origin_x - (e.major_axis/2)\n",
    "upper_limit_x = e.origin_x + (e.major_axis/2)\n",
    "lower_limit_y = e.origin_y - (e.minor_axis/2)\n",
    "upper_limit_y = e.origin_y + (e.minor_axis/2)\n",
    "# Loop continues till we get 1000 valid points inside the ellipse\n",
    "while len(points) < 1000:\n",
    "    lower_limit_x = e.origin_x - (e.major_axis/2)\n",
    "    upper_limit_x = e.origin_x + (e.major_axis/2)\n",
    "    \n",
    "    lower_limit_y = e.origin_y - (e.minor_axis/2)\n",
    "    upper_limit_y = e.origin_y + (e.minor_axis/2)\n",
    "    \n",
    "    new_point_x = round(random.uniform(lower_limit_x, upper_limit_x),5)\n",
    "    new_point_y = round(random.uniform(lower_limit_y, upper_limit_y),5)\n",
    "    \n",
    "    # if generated point lies inside ellipse then append point\n",
    "    if e.isInsideEllipse(new_point_x, new_point_y) is True:\n",
    "        points.append([new_point_x, new_point_y])\n",
    "\n",
    "x = np.array([points[i][0] for i in range(len(points))])\n",
    "y = np.array([points[i][1] for i in range(len(points))])\n",
    "point_matrix = []\n",
    "point_matrix.append(x)\n",
    "point_matrix.append(y)\n",
    "\n",
    "theta = math.pi/3\n",
    "rotation_matrix = np.array([[np.cos(theta), -1*np.sin(theta)], [np.sin(theta), np.cos(theta)]])\n",
    "point_matrix = np.array(point_matrix)\n",
    "\n",
    "result = rotation_matrix.dot(point_matrix)\n",
    "\n",
    "x_new = []\n",
    "y_new = []\n",
    "\n",
    "x_new = np.array([result[0][i] for i in range(len(result[0]))])\n",
    "y_new = np.array([result[1][i] for i in range(len(result[0]))])\n",
    "\n",
    "plt.scatter(x_new, y_new, color ='blue')\n",
    "plt.xlabel('x')\n",
    "plt.ylabel('y')\n",
    "plt.title('Oriented Ellipse')\n",
    "plt.show()"
   ]
  },
  {
   "cell_type": "markdown",
   "id": "26994246",
   "metadata": {},
   "source": [
    "### Problem 4: Covariance Matrix Computation"
   ]
  },
  {
   "cell_type": "code",
   "execution_count": null,
   "id": "fd8bb85f",
   "metadata": {
    "scrolled": true
   },
   "outputs": [],
   "source": [
    "cov_mat = np.cov(x_new, y_new)\n",
    "\n",
    "# previous major axes\n",
    "major_axes_x = np.array([origin_x - major_axis/2, origin_x + major_axis/2])\n",
    "major_axes_y = np.array([origin_y, origin_y])\n",
    "\n",
    "# previous minor axes\n",
    "minor_axes_x = np.array([origin_x, origin_x])\n",
    "minor_axes_y = np.array([origin_y - minor_axis/2, origin_y + minor_axis/2])\n",
    "\n",
    "major_axes_x_new, major_axes_y_new = [], []\n",
    "minor_axes_x_new, minor_axes_y_new = [], []\n",
    "\n",
    "# update major and minor axes due to rotation of an angle = pi/3\n",
    "for i in range(2):\n",
    "    major_axes_x_new.append((major_axes_x[i]-origin_x)*np.cos(math.pi/3) - (major_axes_y[i]-origin_y)*np.sin(math.pi/3) + origin_x)\n",
    "    major_axes_y_new.append((major_axes_x[i]-origin_x)*np.sin(math.pi/3) + (major_axes_y[i]-origin_y)*np.cos(math.pi/3) + origin_y)\n",
    "    minor_axes_x_new.append((minor_axes_x[i]-origin_x)*np.cos(math.pi/3) - (minor_axes_y[i]-origin_y)*np.sin(math.pi/3) + origin_x)\n",
    "    minor_axes_y_new.append((minor_axes_x[i]-origin_x)*np.sin(math.pi/3) + (minor_axes_y[i]-origin_y)*np.cos(math.pi/3) + origin_y)\n",
    "    \n",
    "\n",
    "eigen_values, eigen_vectors = np.linalg.eig(cov_mat)\n",
    "vec_1 = eigen_vectors[:, 0]\n",
    "vec_2 = eigen_vectors[:, 1]\n",
    "\n",
    "plt.arrow(origin_x, origin_y, vec_1[0], vec_1[1], color='red', label = 'Eigen Vector 1', head_width = 2.0)\n",
    "plt.arrow(origin_x, origin_y, vec_2[0], vec_2[1], color='blue', label = 'Eigen Vector 2', head_width = 2.0)\n",
    "plt.plot(major_axes_x_new, major_axes_y_new, color = 'green',label = 'major axes')\n",
    "plt.plot(minor_axes_x_new, minor_axes_y_new, color = 'yellow', label = 'minor axes')\n",
    "plt.xlabel('x')\n",
    "plt.ylabel('y')\n",
    "plt.legend(loc = 4)\n",
    "plt.show()\n",
    "\n",
    "k = [3, 4, 5]"
   ]
  },
  {
   "cell_type": "markdown",
   "id": "926dbd9c",
   "metadata": {},
   "source": [
    "#### For k = 3"
   ]
  },
  {
   "cell_type": "code",
   "execution_count": null,
   "id": "f168ec17",
   "metadata": {},
   "outputs": [],
   "source": [
    "length_1 = k[0]*(eigen_values[0]**0.5)\n",
    "length_2 = k[0]*(eigen_values[1]**0.5)\n",
    "\n",
    "v_1 = vec_1*length_1\n",
    "v_2 = vec_2*length_2\n",
    "\n",
    "plt.arrow(origin_x, origin_y, v_1[0], v_1[1], color='red', label = 'Eigen Vector 1', head_width=5.0)\n",
    "plt.arrow(origin_x, origin_y, v_2[0], v_2[1], color='blue', label = 'Eigen Vector 2',head_width=5.0)\n",
    "plt.plot(major_axes_x_new, major_axes_y_new, color = 'green',label = 'major axes')\n",
    "plt.plot(minor_axes_x_new, minor_axes_y_new, color = 'yellow', label = 'minor axes')\n",
    "plt.xlabel('x')\n",
    "plt.ylabel('y')\n",
    "plt.legend(loc = 4)\n",
    "plt.show()"
   ]
  },
  {
   "cell_type": "markdown",
   "id": "0927d935",
   "metadata": {},
   "source": [
    "#### For k = 4"
   ]
  },
  {
   "cell_type": "code",
   "execution_count": null,
   "id": "6301f588",
   "metadata": {},
   "outputs": [],
   "source": [
    "length_1 = k[1]*(eigen_values[0]**0.5)\n",
    "length_2 = k[1]*(eigen_values[1]**0.5)\n",
    "\n",
    "v_1 = vec_1*length_1\n",
    "v_2 = vec_2*length_2\n",
    "\n",
    "plt.arrow(origin_x, origin_y, v_1[0], v_1[1], color='red', label = 'Eigen Vector 1', head_width=5.0)\n",
    "plt.arrow(origin_x, origin_y, v_2[0], v_2[1], color='blue', label = 'Eigen Vector 2',head_width=5.0)\n",
    "plt.plot(major_axes_x_new, major_axes_y_new, color = 'green',label = 'major axes')\n",
    "plt.plot(minor_axes_x_new, minor_axes_y_new, color = 'yellow', label = 'minor axes')\n",
    "plt.xlabel('x')\n",
    "plt.ylabel('y')\n",
    "plt.legend(loc = 4)\n",
    "plt.show()"
   ]
  },
  {
   "cell_type": "markdown",
   "id": "14899e39",
   "metadata": {},
   "source": [
    "#### For k = 5"
   ]
  },
  {
   "cell_type": "code",
   "execution_count": null,
   "id": "194c6820",
   "metadata": {},
   "outputs": [],
   "source": [
    "length_1 = k[2]*(eigen_values[0]**0.5)\n",
    "length_2 = k[2]*(eigen_values[1]**0.5)\n",
    "\n",
    "v_1 = vec_1*length_1\n",
    "v_2 = vec_2*length_2\n",
    "\n",
    "plt.arrow(origin_x, origin_y, v_1[0], v_1[1], color='red', label = 'Eigen Vector 1', head_width=5.0)\n",
    "plt.arrow(origin_x, origin_y, v_2[0], v_2[1], color='blue', label = 'Eigen Vector 2',head_width=5.0)\n",
    "plt.plot(major_axes_x_new, major_axes_y_new, color = 'green',label = 'major axes')\n",
    "plt.plot(minor_axes_x_new, minor_axes_y_new, color = 'yellow', label = 'minor axes')\n",
    "plt.xlabel('x')\n",
    "plt.ylabel('y')\n",
    "plt.legend(loc = 4)\n",
    "plt.show()"
   ]
  },
  {
   "cell_type": "markdown",
   "id": "b03b018b",
   "metadata": {},
   "source": [
    "### Problem 4: Distribution estimation"
   ]
  },
  {
   "cell_type": "markdown",
   "id": "85aebc8e",
   "metadata": {},
   "source": [
    "Necessary user defined function that will be required for calculations"
   ]
  },
  {
   "cell_type": "code",
   "execution_count": null,
   "id": "ec058356",
   "metadata": {},
   "outputs": [],
   "source": [
    "# Generate points for S_1\n",
    "def generateNumbers(x_min, x_max,number_of_points):\n",
    "    points = np.random.randint(x_min, x_max, number_of_points)\n",
    "    return points\n",
    "\n",
    "# Calculating Probability distribution function\n",
    "# Will store x values in 0th index and cumulative value till that point in 1th index\n",
    "def generateCDF(pmf):\n",
    "    cdf = []\n",
    "    cum_sum = 0\n",
    "    for index in range(len(pmf)):\n",
    "\n",
    "        # make a fresh list to store cdf at a particular point\n",
    "        cdf_at_x = []\n",
    "        \n",
    "        # first append the x value\n",
    "        cdf_at_x.append(pmf[index][0])\n",
    "\n",
    "        cum_sum += pmf[index][1]\n",
    "        # then append the corresponding cdf value\n",
    "        cdf_at_x.append(cum_sum)\n",
    "\n",
    "        # finally append it to the cdf function\n",
    "        cdf.append(cdf_at_x)\n",
    "\n",
    "    cdf = np.array(cdf)\n",
    "    return cdf"
   ]
  },
  {
   "cell_type": "markdown",
   "id": "27b43ee5",
   "metadata": {},
   "source": [
    "#### Generating S_1\n",
    "    at x_min, x_max = -750, 750\n",
    "    number_of_points = 5000\n",
    "    bin_size = 5"
   ]
  },
  {
   "cell_type": "code",
   "execution_count": null,
   "id": "f9032db6",
   "metadata": {
    "scrolled": false
   },
   "outputs": [],
   "source": [
    "# Generates points within given range and returns \n",
    "def generatePoints(x_min, x_max,number_of_points):\n",
    "    \n",
    "    points = np.random.randint(x_min, x_max, number_of_points)\n",
    "    return points\n",
    "\n",
    "# Execution begins here\n",
    "x_min, x_max = -750, 750\n",
    "number_of_points_P = 5000\n",
    "bin_size = 5\n",
    "\n",
    "# Store the generated points into S_1\n",
    "S_1 = generatePoints(x_min, x_max, number_of_points_P)\n",
    "\n",
    "# plot the histogram for the generated points\n",
    "plt.hist(S_1, bins = int((x_max-x_min)/bin_size))\n",
    "plt.xlabel('x')\n",
    "plt.ylabel('Frequency')\n",
    "plt.title('Histogram of generated points S_1')\n",
    "plt.show()\n",
    "\n",
    "# Calculate and store x_values and bin_frequncies\n",
    "hist, bin_edges = np.histogram(S_1, bins = int((x_max-x_min)/bin_size))\n",
    "\n",
    "# probability mass function stores as (xi, Pi) where xi is event and Pi is probability of occuring the event \n",
    "pmf = [[(int(bin_edges[i]+bin_edges[i+1]))/2, hist[i]/number_of_points_P] for i in range(len(hist))]\n",
    "\n",
    "# probability mass function of P\n",
    "pmf_P = np.array(pmf)\n",
    "\n",
    "# cumulative distribution of P\n",
    "cdf_P = generateCDF(pmf_P)\n",
    "# separate out the values and store into individual arrays x_values and probability_values\n",
    "# x_values = np.array([pmf[i][0] for i in range(len(pmf))])\n",
    "# prob_values = np.array([pmf[i][1] for i in range(len(pmf))])"
   ]
  },
  {
   "cell_type": "markdown",
   "id": "569ce1ca",
   "metadata": {},
   "source": [
    "### Problem 5: Data Generation and Distribution estimation"
   ]
  },
  {
   "cell_type": "code",
   "execution_count": null,
   "id": "49da1464",
   "metadata": {
    "scrolled": true
   },
   "outputs": [],
   "source": [
    "# Generates random number uniform distribution\n",
    "def generateFromP(x_min, x_max, pmf, cdf, number_of_points):\n",
    "\n",
    "    points = []\n",
    "    \n",
    "    # loop untill we generate required number of points\n",
    "    while len(points) < number_of_points:\n",
    "        \n",
    "        # First generate a random value uniformly i.e. p~U(0,1)\n",
    "        random_value = np.random.uniform(0,1)\n",
    "        \n",
    "        index = 0\n",
    "        for index in range(len(pmf)): \n",
    "            # if we hit cdf valeu greater than random value then generate x from the formula\n",
    "            \n",
    "            if cdf[index][1] > random_value:\n",
    "                \n",
    "                # if we get the random_value is even less than the first cdf_value\n",
    "                if index == 0:\n",
    "                    x = ((random_value - 0)*(cdf[index][0] - x_min)/pmf[index][1]) + x_min\n",
    "                else:\n",
    "                    # since we are at (r+1) i.e. index so our calculation will be in index and index -1\n",
    "                    x = ((random_value - cdf[index-1][1])*(cdf[index][0] - cdf[index-1][0])/pmf[index][1]) + cdf[index-1][0]\n",
    "                \n",
    "                # append the obtained x into points and break from loop to generate the next point\n",
    "                points.append(x)\n",
    "                \n",
    "                break\n",
    "    \n",
    "    points = np.array(points)\n",
    "    \n",
    "    return points"
   ]
  },
  {
   "cell_type": "markdown",
   "id": "15bfc76d",
   "metadata": {},
   "source": [
    "#### Generating Q (will be stored in S_2) from the distribution of P (which having points in S_1)\n",
    "     at x_min, x_max = -750, 750\n",
    "        number_of_points = 3000\n",
    "        bin_size = 10"
   ]
  },
  {
   "cell_type": "code",
   "execution_count": null,
   "id": "a9b9bb0e",
   "metadata": {},
   "outputs": [],
   "source": [
    "x_min, x_max = -750, 750\n",
    "number_of_points_Q = 3000\n",
    "bin_size = 5\n",
    "# Store the generated points into S_2\n",
    "S_2 = generateFromP(x_min, x_max, pmf_P, cdf_P, number_of_points_Q)\n",
    "\n",
    "# plot the histogram for the generated points\n",
    "plt.hist(S_2, bins = int((x_max-x_min)/bin_size))\n",
    "plt.xlabel('x')\n",
    "plt.ylabel('Frequency')\n",
    "plt.title('S_2 (Histogram of points generated using pmf of S_1)')\n",
    "plt.show()\n",
    "\n",
    "# Calculate and store x_values and bin_frequncies\n",
    "hist, bin_edges = np.histogram(S_2, bins = int((x_max-x_min)/bin_size))\n",
    "\n",
    "# probability mass function stores as (xi, Pi) where xi is event and Pi is probability of occuring the event \n",
    "pmf = [[(int(bin_edges[i]+bin_edges[i+1]))/2, hist[i]/number_of_points_Q] for i in range(len(hist))]\n",
    "\n",
    "# probability mass function of Q\n",
    "pmf_Q = np.array(pmf)\n",
    "\n",
    "# cumulative distribution of PQ\n",
    "cdf_Q = generateCDF(pmf_Q)"
   ]
  },
  {
   "cell_type": "markdown",
   "id": "56c90a6e",
   "metadata": {},
   "source": [
    "### Problem 6: Comparing the Distributions"
   ]
  },
  {
   "cell_type": "code",
   "execution_count": null,
   "id": "802cd7f1",
   "metadata": {},
   "outputs": [],
   "source": [
    "# Calculate number of bins\n",
    "number_of_bins = int((x_max-x_min)/bin_size)\n",
    "\n",
    "# store the multiple and sqaure root into BC_sequence for final summation\n",
    "BC_sequence = np.array([(pmf_P[i][1]*pmf_Q[i][1])**0.50 for i in range(number_of_bins)])\n",
    "\n",
    "# sum all the elements obtained in BC_sequence\n",
    "BC_of_PQ = sum(BC_sequence)\n",
    "\n",
    "# Print result\n",
    "print('Result')\n",
    "print(f'\\nx_min : {x_min} \\tx_max : {x_max} \\tbin size : {bin_size}')\n",
    "print(f'\\nFor P\\nn : {number_of_points_P} \\n')\n",
    "print(f\"\\nFor Q\\nn' : {number_of_points_Q} \\n\")\n",
    "print(f'Bhattacharya Coefficient : {BC_of_PQ}')"
   ]
  },
  {
   "cell_type": "markdown",
   "id": "e1842d8e",
   "metadata": {},
   "source": [
    "## Comparing Distribution #2:"
   ]
  },
  {
   "cell_type": "markdown",
   "id": "6edb7431",
   "metadata": {},
   "source": [
    "#### Generating S_1\n",
    "    at x_min, x_max = -750, 750\n",
    "    number_of_points = 6000\n",
    "    bin_size = 4"
   ]
  },
  {
   "cell_type": "code",
   "execution_count": null,
   "id": "6ccd8cd5",
   "metadata": {},
   "outputs": [],
   "source": [
    "# Execution begins here\n",
    "x_min, x_max = -750, 750\n",
    "number_of_points_P = 6000\n",
    "bin_size = 4\n",
    "\n",
    "# Store the generated points into S_1\n",
    "S_1 = generatePoints(x_min, x_max, number_of_points_P)\n",
    "\n",
    "# plot the histogram for the generated points\n",
    "plt.hist(S_1, bins = int((x_max-x_min)/bin_size))\n",
    "plt.xlabel('x')\n",
    "plt.ylabel('Frequency')\n",
    "plt.title('Histogram of generated points S_1')\n",
    "plt.show()\n",
    "\n",
    "# Calculate and store x_values and bin_frequncies\n",
    "hist, bin_edges = np.histogram(S_1, bins = int((x_max-x_min)/bin_size))\n",
    "\n",
    "# probability mass function stores as (xi, Pi) where xi is event and Pi is probability of occuring the event \n",
    "pmf = [[(int(bin_edges[i]+bin_edges[i+1]))/2, round(hist[i]/number_of_points_P, 5)] for i in range(len(hist))]\n",
    "\n",
    "# probability mass function of P\n",
    "pmf_P = np.array(pmf)\n",
    "\n",
    "# cumulative distribution of P\n",
    "cdf_P = generateCDF(pmf_P)"
   ]
  },
  {
   "cell_type": "markdown",
   "id": "a6901a96",
   "metadata": {},
   "source": [
    "#### Generating Q (will be stored in S_2) from the distribution of P (which having points in S_1)\n",
    "     at x_min, x_max = -750, 750\n",
    "        number_of_points = 4000\n",
    "        bin_size = 4"
   ]
  },
  {
   "cell_type": "code",
   "execution_count": null,
   "id": "390fbac2",
   "metadata": {},
   "outputs": [],
   "source": [
    "x_min, x_max = -750, 750\n",
    "number_of_points_Q = 4000\n",
    "bin_size = 4\n",
    "# Store the generated points into S_2\n",
    "S_2 = generateFromP(x_min, x_max, pmf_P, cdf_P, number_of_points_Q)\n",
    "\n",
    "# plot the histogram for the generated points\n",
    "plt.hist(S_2, bins = int((x_max-x_min)/bin_size))\n",
    "plt.xlabel('x')\n",
    "plt.ylabel('Frequency')\n",
    "plt.title('S_2 (Histogram of points generated using pmf of S_1)')\n",
    "plt.show()\n",
    "\n",
    "# Calculate and store x_values and bin_frequncies\n",
    "hist, bin_edges = np.histogram(S_2, bins = int((x_max-x_min)/bin_size))\n",
    "\n",
    "# probability mass function stores as (xi, Pi) where xi is event and Pi is probability of occuring the event \n",
    "pmf = [[(int(bin_edges[i]+bin_edges[i+1]))/2, round(hist[i]/number_of_points_Q, 5)] for i in range(len(hist))]\n",
    "\n",
    "# probability mass function of Q\n",
    "pmf_Q = np.array(pmf)\n",
    "\n",
    "# cumulative distribution of Q\n",
    "cdf_Q = generateCDF(pmf_Q)"
   ]
  },
  {
   "cell_type": "markdown",
   "id": "90a8ac54",
   "metadata": {},
   "source": [
    "#### Calculating Bhattacharya Coefficient and Results"
   ]
  },
  {
   "cell_type": "code",
   "execution_count": null,
   "id": "e08163a7",
   "metadata": {},
   "outputs": [],
   "source": [
    "# Calculate number of bins\n",
    "number_of_bins = int((x_max-x_min)/bin_size)\n",
    "\n",
    "# store the multiple and sqaure root into BC_sequence for final summation\n",
    "BC_sequence = np.array([(pmf_P[i][1]*pmf_Q[i][1])**0.50 for i in range(number_of_bins)])\n",
    "\n",
    "# sum all the elements obtained in BC_sequence\n",
    "BC_of_PQ = sum(BC_sequence)\n",
    "\n",
    "# Print result\n",
    "print('Result')\n",
    "print(f'\\nx_min : {x_min} \\tx_max : {x_max} \\tbin size : {bin_size}')\n",
    "print(f'\\nFor P\\nn : {number_of_points_P} \\n')\n",
    "print(f\"\\nFor Q\\nn' : {number_of_points_Q} \\n\")\n",
    "print(f'Bhattacharya Coefficient : {BC_of_PQ}')"
   ]
  },
  {
   "cell_type": "markdown",
   "id": "2fc1193b",
   "metadata": {},
   "source": [
    "## Comparing Distribution #3:"
   ]
  },
  {
   "cell_type": "markdown",
   "id": "3706a3c4",
   "metadata": {},
   "source": [
    "#### Generating S_1\n",
    "    at x_min, x_max = -750, 750\n",
    "    number_of_points = 4000\n",
    "    bin_size = 10"
   ]
  },
  {
   "cell_type": "code",
   "execution_count": null,
   "id": "7169df61",
   "metadata": {},
   "outputs": [],
   "source": [
    "# Execution begins here\n",
    "x_min, x_max = -750, 750\n",
    "number_of_points_P = 4000\n",
    "bin_size = 10\n",
    "\n",
    "# Store the generated points into S_1\n",
    "S_1 = generatePoints(x_min, x_max, number_of_points_P)\n",
    "\n",
    "# plot the histogram for the generated points\n",
    "plt.hist(S_1, bins = int((x_max-x_min)/bin_size))\n",
    "plt.xlabel('x')\n",
    "plt.ylabel('Frequency')\n",
    "plt.title('Histogram of generated points S_1')\n",
    "plt.show()\n",
    "\n",
    "# Calculate and store x_values and bin_frequncies\n",
    "hist, bin_edges = np.histogram(S_1, bins = int((x_max-x_min)/bin_size))\n",
    "\n",
    "# probability mass function stores as (xi, Pi) where xi is event and Pi is probability of occuring the event \n",
    "pmf = [[(int(bin_edges[i]+bin_edges[i+1]))/2, round(hist[i]/number_of_points_P, 5)] for i in range(len(hist))]\n",
    "\n",
    "# probability mass function of P\n",
    "pmf_P = np.array(pmf)\n",
    "\n",
    "# cumulative distribution of P\n",
    "cdf_P = generateCDF(pmf_P)"
   ]
  },
  {
   "cell_type": "markdown",
   "id": "b2c67f0a",
   "metadata": {},
   "source": [
    "#### Generating Q (will be stored in S_2) from the distribution of P (which having points in S_1)\n",
    "     at x_min, x_max = -750, 750\n",
    "        number_of_points = 2500\n",
    "        bin_size = 10"
   ]
  },
  {
   "cell_type": "code",
   "execution_count": null,
   "id": "a2e4d122",
   "metadata": {},
   "outputs": [],
   "source": [
    "x_min, x_max = -750, 750\n",
    "number_of_points_Q = 2500\n",
    "bin_size = 10\n",
    "# Store the generated points into S_2\n",
    "S_2 = generateFromP(x_min, x_max, pmf_P, cdf_P, number_of_points_Q)\n",
    "\n",
    "# plot the histogram for the generated points\n",
    "plt.hist(S_2, bins = int((x_max-x_min)/bin_size))\n",
    "plt.xlabel('x')\n",
    "plt.ylabel('Frequency')\n",
    "plt.title('S_2 (Histogram of points generated using pmf of S_1)')\n",
    "plt.show()\n",
    "\n",
    "# Calculate and store x_values and bin_frequncies\n",
    "hist, bin_edges = np.histogram(S_2, bins = int((x_max-x_min)/bin_size))\n",
    "\n",
    "# probability mass function stores as (xi, Pi) where xi is event and Pi is probability of occuring the event \n",
    "pmf = [[(int(bin_edges[i]+bin_edges[i+1]))/2, round(hist[i]/number_of_points_Q, 5)] for i in range(len(hist))]\n",
    "\n",
    "# probability mass function of Q\n",
    "pmf_Q = np.array(pmf)\n",
    "\n",
    "# cumulative distribution of Q\n",
    "cdf_Q = generateCDF(pmf_Q)"
   ]
  },
  {
   "cell_type": "markdown",
   "id": "c3876734",
   "metadata": {},
   "source": [
    "#### Calculating Bhattacharya Coefficient and Results"
   ]
  },
  {
   "cell_type": "code",
   "execution_count": null,
   "id": "23c0a817",
   "metadata": {},
   "outputs": [],
   "source": [
    "# Calculate number of bins\n",
    "number_of_bins = int((x_max-x_min)/bin_size)\n",
    "\n",
    "# store the multiple and sqaure root into BC_sequence for final summation\n",
    "BC_sequence = np.array([(pmf_P[i][1]*pmf_Q[i][1])**0.50 for i in range(number_of_bins)])\n",
    "\n",
    "# sum all the elements obtained in BC_sequence\n",
    "BC_of_PQ = sum(BC_sequence)\n",
    "\n",
    "# Print result\n",
    "print('Result')\n",
    "print(f'\\nx_min : {x_min} \\tx_max : {x_max} \\tbin size : {bin_size}')\n",
    "print(f'\\nFor P\\nn : {number_of_points_P} \\n')\n",
    "print(f\"\\nFor Q\\nn' : {number_of_points_Q} \\n\")\n",
    "print(f'Bhattacharya Coefficient : {BC_of_PQ}')"
   ]
  },
  {
   "cell_type": "markdown",
   "id": "2cb62630",
   "metadata": {},
   "source": [
    "## Comparing Distribution #4:"
   ]
  },
  {
   "cell_type": "markdown",
   "id": "2c3813e4",
   "metadata": {},
   "source": [
    "#### Generating S_1\n",
    "    at x_min, x_max = -750, 750\n",
    "    number_of_points = 10000\n",
    "    bin_size = 20"
   ]
  },
  {
   "cell_type": "code",
   "execution_count": null,
   "id": "d32c891a",
   "metadata": {},
   "outputs": [],
   "source": [
    "# Execution begins here\n",
    "x_min, x_max = -750, 750\n",
    "number_of_points_P = 10000\n",
    "bin_size = 20\n",
    "\n",
    "# Store the generated points into S_1\n",
    "S_1 = generatePoints(x_min, x_max, number_of_points_P)\n",
    "\n",
    "# plot the histogram for the generated points\n",
    "plt.hist(S_1, bins = int((x_max-x_min)/bin_size))\n",
    "plt.xlabel('x')\n",
    "plt.ylabel('Frequency')\n",
    "plt.title('Histogram of generated points S_1')\n",
    "plt.show()\n",
    "\n",
    "# Calculate and store x_values and bin_frequncies\n",
    "hist, bin_edges = np.histogram(S_1, bins = int((x_max-x_min)/bin_size))\n",
    "\n",
    "# probability mass function stores as (xi, Pi) where xi is event and Pi is probability of occuring the event \n",
    "pmf = [[(int(bin_edges[i]+bin_edges[i+1]))/2, round(hist[i]/number_of_points_P, 5)] for i in range(len(hist))]\n",
    "\n",
    "# probability mass function of P\n",
    "pmf_P = np.array(pmf)\n",
    "\n",
    "# cumulative distribution of P\n",
    "cdf_P = generateCDF(pmf_P)"
   ]
  },
  {
   "cell_type": "markdown",
   "id": "6677b78a",
   "metadata": {},
   "source": [
    "#### Generating Q (will be stored in S_2) from the distribution of P (which having points in S_1)\n",
    "     at x_min, x_max = -750, 750\n",
    "        number_of_points = 8000\n",
    "        bin_size = 20"
   ]
  },
  {
   "cell_type": "code",
   "execution_count": null,
   "id": "bbbd0527",
   "metadata": {},
   "outputs": [],
   "source": [
    "x_min, x_max = -750, 750\n",
    "number_of_points_Q = 8000\n",
    "bin_size = 20\n",
    "# Store the generated points into S_2\n",
    "S_2 = generateFromP(x_min, x_max, pmf_P, cdf_P, number_of_points_Q)\n",
    "\n",
    "# plot the histogram for the generated points\n",
    "plt.hist(S_2, bins = int((x_max-x_min)/bin_size))\n",
    "plt.xlabel('x')\n",
    "plt.ylabel('Frequency')\n",
    "plt.title('S_2 (Histogram of points generated using pmf of S_1)')\n",
    "plt.show()\n",
    "\n",
    "# Calculate and store x_values and bin_frequncies\n",
    "hist, bin_edges = np.histogram(S_2, bins = int((x_max-x_min)/bin_size))\n",
    "\n",
    "# probability mass function stores as (xi, Pi) where xi is event and Pi is probability of occuring the event \n",
    "pmf = [[(int(bin_edges[i]+bin_edges[i+1]))/2, round(hist[i]/number_of_points_Q, 5)] for i in range(len(hist))]\n",
    "\n",
    "# probability mass function of Q\n",
    "pmf_Q = np.array(pmf)\n",
    "\n",
    "# cumulative distribution of Q\n",
    "cdf_Q = generateCDF(pmf_Q)"
   ]
  },
  {
   "cell_type": "markdown",
   "id": "e3fefe46",
   "metadata": {},
   "source": [
    "#### Calculating Bhattacharya Coefficient and Results"
   ]
  },
  {
   "cell_type": "code",
   "execution_count": null,
   "id": "5beeb270",
   "metadata": {},
   "outputs": [],
   "source": [
    "# Calculate number of bins\n",
    "number_of_bins = int((x_max-x_min)/bin_size)\n",
    "\n",
    "# store the multiple and sqaure root into BC_sequence for final summation\n",
    "BC_sequence = np.array([(pmf_P[i][1]*pmf_Q[i][1])**0.50 for i in range(number_of_bins)])\n",
    "\n",
    "# sum all the elements obtained in BC_sequence\n",
    "BC_of_PQ = sum(BC_sequence)\n",
    "\n",
    "# Print result\n",
    "print('Result')\n",
    "print(f'\\nx_min : {x_min} \\tx_max : {x_max} \\tbin size : {bin_size}')\n",
    "print(f'\\nFor P\\nn : {number_of_points_P} \\n')\n",
    "print(f\"\\nFor Q\\nn' : {number_of_points_Q} \\n\")\n",
    "print(f'Bhattacharya Coefficient : {BC_of_PQ}')"
   ]
  }
 ],
 "metadata": {
  "kernelspec": {
   "display_name": "Python 3 (ipykernel)",
   "language": "python",
   "name": "python3"
  },
  "language_info": {
   "codemirror_mode": {
    "name": "ipython",
    "version": 3
   },
   "file_extension": ".py",
   "mimetype": "text/x-python",
   "name": "python",
   "nbconvert_exporter": "python",
   "pygments_lexer": "ipython3",
   "version": "3.9.7"
  }
 },
 "nbformat": 4,
 "nbformat_minor": 5
}
