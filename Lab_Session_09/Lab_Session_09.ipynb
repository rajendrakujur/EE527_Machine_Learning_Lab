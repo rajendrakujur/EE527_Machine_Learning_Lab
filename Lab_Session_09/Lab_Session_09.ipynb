{
 "cells": [
  {
   "cell_type": "markdown",
   "metadata": {},
   "source": [
    "# Lab Assignment 08\n"
   ]
  },
  {
   "cell_type": "markdown",
   "metadata": {},
   "source": [
    "## Group Members\n",
    "    RAJENDRA KUJUR (214161008)\n",
    "    ROHIT RAJ SINGH CHAUHAN (21416009)"
   ]
  },
  {
   "cell_type": "code",
   "execution_count": 1,
   "metadata": {},
   "outputs": [],
   "source": [
    "import pandas as pd\n",
    "import numpy as np\n",
    "import matplotlib.pyplot as plt\n",
    "import random\n",
    "import math"
   ]
  },
  {
   "cell_type": "code",
   "execution_count": 57,
   "metadata": {},
   "outputs": [],
   "source": [
    "def genRandPointsInRing(r_inner, r_outer, center, count_points):\n",
    "\n",
    "    points = []\n",
    "    for i in range(count_points):\n",
    "        \n",
    "        r = np.random.uniform(r_inner**2,r_outer**2)**0.5\n",
    "\n",
    "        theta = np.random.uniform(0, 2*math.pi)\n",
    "\n",
    "        points.append([center[0] + r*math.cos(theta), center[1] + r*math.sin(theta)])\n",
    "    \n",
    "    points = np.array(points)\n",
    "    # print(point)\n",
    "\n",
    "    x = [points[i][0] for i in range(len(points))]\n",
    "    y = [points[i][1] for i in range(len(points))]\n",
    "\n",
    "    plt.figure(figsize=(6, 6))\n",
    "    plt.scatter(x ,y , color = 'red')\n",
    "    plt.show()\n",
    "    return points\n",
    "\n",
    "\n",
    "points = genRandPointsInRing(2, 5, [0, 0], 1000)"
   ]
  },
  {
   "cell_type": "code",
   "execution_count": null,
   "metadata": {},
   "outputs": [],
   "source": []
  }
 ],
 "metadata": {
  "interpreter": {
   "hash": "1ef2818c55ffc97d79a698210e2a08efae207ee2cec6a0fd090b9cab7f2f8125"
  },
  "kernelspec": {
   "display_name": "Python 3.9.7 ('base')",
   "language": "python",
   "name": "python3"
  },
  "language_info": {
   "codemirror_mode": {
    "name": "ipython",
    "version": 3
   },
   "file_extension": ".py",
   "mimetype": "text/x-python",
   "name": "python",
   "nbconvert_exporter": "python",
   "pygments_lexer": "ipython3",
   "version": "3.9.7"
  },
  "orig_nbformat": 4
 },
 "nbformat": 4,
 "nbformat_minor": 2
}
